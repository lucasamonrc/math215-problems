{
  "nbformat": 4,
  "nbformat_minor": 0,
  "metadata": {
    "colab": {
      "provenance": [],
      "include_colab_link": true
    },
    "kernelspec": {
      "name": "python3",
      "display_name": "Python 3"
    }
  },
  "cells": [
    {
      "cell_type": "markdown",
      "metadata": {
        "id": "view-in-github",
        "colab_type": "text"
      },
      "source": [
        "<a href=\"https://colab.research.google.com/github/lucasamonrc/math215-problems/blob/main/LU_decompositions.ipynb\" target=\"_parent\"><img src=\"https://colab.research.google.com/assets/colab-badge.svg\" alt=\"Open In Colab\"/></a>"
      ]
    },
    {
      "cell_type": "markdown",
      "metadata": {
        "id": "qEJhOZ51lG2W"
      },
      "source": [
        "#**Lab 5 - LU decompositions and Gaussian elimination**"
      ]
    },
    {
      "cell_type": "markdown",
      "metadata": {
        "id": "y0oQ0MWSlwfG"
      },
      "source": [
        "Enter your code in the spaces provided. Do not change any of the variable names or function names that are already provided for you. In places where we specify the name of the return value, make sure that your code produces the a value with the correct name."
      ]
    },
    {
      "cell_type": "code",
      "metadata": {
        "id": "UyLKhewcUu6m"
      },
      "source": [
        "# Do not edit this cell.\n",
        "\n",
        "LabID=\"Lab5\"\n",
        "\n",
        "try:\n",
        "  from graderHelp import ISGRADEPLOT\n",
        "except ImportError:\n",
        "  ISGRADEPLOT = True"
      ],
      "execution_count": 1,
      "outputs": []
    },
    {
      "cell_type": "markdown",
      "metadata": {
        "id": "CGHZ14CWl0sS"
      },
      "source": [
        "**Enter your name, section number, and BYU NetID**"
      ]
    },
    {
      "cell_type": "code",
      "metadata": {
        "id": "knzMO488lOPx"
      },
      "source": [
        "# Enter your first and last names in between the quotation marks.\n",
        "\n",
        "first_name=\"Lucas\"\n",
        "\n",
        "last_name=\"Castro\"\n",
        "\n",
        "# Enter your Math 215 section number in between the quotation marks. \n",
        "\n",
        "section_number=\"1\"  \n",
        "\n",
        "# Enter your BYU NetID in between the quotation marks.  NOT YOUR BYU ID NUMBER! \n",
        "\n",
        "BYUNetID=\"lucasarc\" "
      ],
      "execution_count": 2,
      "outputs": []
    },
    {
      "cell_type": "markdown",
      "metadata": {
        "id": "sXLH1s6F6et4"
      },
      "source": [
        "**Import NumPy**"
      ]
    },
    {
      "cell_type": "code",
      "metadata": {
        "id": "EjD80ENR6g6A"
      },
      "source": [
        "import numpy as np"
      ],
      "execution_count": 3,
      "outputs": []
    },
    {
      "cell_type": "markdown",
      "metadata": {
        "id": "8TbgwXGZmETs"
      },
      "source": [
        "**Problem 1**"
      ]
    },
    {
      "cell_type": "code",
      "metadata": {
        "id": "dzudpi4_l8-8"
      },
      "source": [
        "def augment(A,b): \n",
        "  return np.column_stack((A,b))"
      ],
      "execution_count": 4,
      "outputs": []
    },
    {
      "cell_type": "markdown",
      "metadata": {
        "id": "5KJ4X0qgmW52"
      },
      "source": [
        "**Problem 2**"
      ]
    },
    {
      "cell_type": "code",
      "metadata": {
        "id": "cUMtfns0mWCc"
      },
      "source": [
        "def first_column_zeros(A):\n",
        "  B = np.copy(A)\n",
        "  for i in range(len(A)):\n",
        "    if (i != 0):\n",
        "      B[i, :] = A[i, :] - (A[0, :]*(A[i, 0]/A[0, 0]))\n",
        "  return B"
      ],
      "execution_count": 5,
      "outputs": []
    },
    {
      "cell_type": "markdown",
      "metadata": {
        "id": "3gFdGK5_m_iw"
      },
      "source": [
        "**Problem 3**"
      ]
    },
    {
      "cell_type": "code",
      "metadata": {
        "id": "dEt45tv6m6l2"
      },
      "source": [
        "def row_echelon(A,b): \n",
        "  B = augment(A, b)\n",
        "  for i in range(len(B)):\n",
        "    B[i:, i:] = first_column_zeros(B[i:, i:])\n",
        "  return B"
      ],
      "execution_count": 6,
      "outputs": []
    },
    {
      "cell_type": "markdown",
      "metadata": {
        "id": "GD3rR1rmngih"
      },
      "source": [
        "**Problem 4**"
      ]
    },
    {
      "cell_type": "code",
      "metadata": {
        "id": "Wun2LuScnf86"
      },
      "source": [
        "def LU_decomposition(A):\n",
        "  U = np.copy(A)\n",
        "  L = np.identity(len(A))\n",
        "\n",
        "  m, n = np.shape(A)\n",
        "\n",
        "  for i in range(0, n):\n",
        "    for j in range(i + 1, m):\n",
        "      L[j, i] = (U[j, i]/ U[i, i])\n",
        "      U[j, :] = U[j, :] - (L[j, i] * U[i, :])\n",
        "  return L, U"
      ],
      "execution_count": 7,
      "outputs": []
    },
    {
      "cell_type": "markdown",
      "metadata": {
        "id": "LhCNjC6CoLgr"
      },
      "source": [
        "**Problem 5**"
      ]
    },
    {
      "cell_type": "code",
      "metadata": {
        "id": "z8cXXktXfGKi"
      },
      "source": [
        "def forward_substitution(L, b):\n",
        "  n = L.shape[0]\n",
        "  y = np.zeros(n)\n",
        "  for i in range(n):\n",
        "    y[i] = b[i] - np.dot(L[i,:i], y[:i])\n",
        "  return y"
      ],
      "execution_count": 8,
      "outputs": []
    },
    {
      "cell_type": "markdown",
      "metadata": {
        "id": "iJL0cSqZiQjH"
      },
      "source": [
        "**Problem 6**"
      ]
    },
    {
      "cell_type": "code",
      "metadata": {
        "id": "6LJ5JLzfiQai"
      },
      "source": [
        "def back_substitution(U, y):\n",
        "  n = U.shape[0]\n",
        "  x = np.zeros(n)\n",
        "  for i in range(n-1, -1, -1):\n",
        "    x[i] = (y[i] - np.dot(U[i,i:], x[i:])) / U[i][i]\n",
        "  return x"
      ],
      "execution_count": 9,
      "outputs": []
    },
    {
      "cell_type": "markdown",
      "metadata": {
        "id": "2Tx7g_driMNS"
      },
      "source": [
        "**Problem 7**"
      ]
    },
    {
      "cell_type": "code",
      "metadata": {
        "id": "zbGvfgyFoB48"
      },
      "source": [
        "def LU_solver(A,b): \n",
        "  L, U = LU_decomposition(A)\n",
        "  y = forward_substitution(L,b)\n",
        "  x = back_substitution(U, y)\n",
        "  return x"
      ],
      "execution_count": 10,
      "outputs": []
    },
    {
      "cell_type": "markdown",
      "metadata": {
        "id": "CeTKOgpv7DWs"
      },
      "source": [
        "**STOP!  BEFORE YOU SUBMIT THIS LAB:**  Go to the \"Runtime\" menu at the top of this page, and select \"Restart and run all\".  If any of the cells produce error messages, you will either need to fix the error(s) or delete the code that is causing the error(s).  Then use \"Restart and run all\" again to see if there are any new errors.  Repeat this until no new error messages show up.   "
      ]
    },
    {
      "cell_type": "markdown",
      "metadata": {
        "id": "80COE0bF7JGu"
      },
      "source": [
        "**You are not ready to submit until you are able to select \"Restart and run all\" without any new error messages showing up.  Your code will not be able to be graded if there are any error messages.**"
      ]
    },
    {
      "cell_type": "markdown",
      "metadata": {
        "id": "aYrvCGC0msYu"
      },
      "source": [
        "To submit your lab for grading you must first download it to your compute as .py file. In the \"File\" menu select \"Download .py\". The resulting file can then be uploaded to http://www.math.byu.edu:30000 for grading."
      ]
    }
  ]
}